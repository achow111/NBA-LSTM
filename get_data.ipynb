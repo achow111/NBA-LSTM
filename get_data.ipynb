{
 "cells": [
  {
   "cell_type": "code",
   "execution_count": null,
   "metadata": {},
   "outputs": [],
   "source": [
    "%pip install requests"
   ]
  },
  {
   "cell_type": "code",
   "execution_count": 6,
   "metadata": {},
   "outputs": [],
   "source": [
    "teams = [\"TOR\"] # Will include all teams later on"
   ]
  },
  {
   "cell_type": "code",
   "execution_count": 4,
   "metadata": {},
   "outputs": [],
   "source": [
    "url_format = \"https://www.basketball-reference.com/teams/{}/2025.html\""
   ]
  },
  {
   "cell_type": "code",
   "execution_count": null,
   "metadata": {},
   "outputs": [],
   "source": [
    "%pip install beautifulsoup4"
   ]
  },
  {
   "cell_type": "code",
   "execution_count": 18,
   "metadata": {},
   "outputs": [
    {
     "name": "stdout",
     "output_type": "stream",
     "text": [
      "Requirement already satisfied: certifi in c:\\users\\sai-lunchow_a\\appdata\\local\\programs\\python\\python312\\lib\\site-packages (2024.8.30)\n"
     ]
    },
    {
     "name": "stderr",
     "output_type": "stream",
     "text": [
      "\n",
      "[notice] A new release of pip is available: 24.2 -> 24.3.1\n",
      "[notice] To update, run: python.exe -m pip install --upgrade pip\n"
     ]
    }
   ],
   "source": [
    "!python -m pip install certifi"
   ]
  },
  {
   "cell_type": "code",
   "execution_count": 19,
   "metadata": {},
   "outputs": [],
   "source": [
    "import certifi\n",
    "import urllib3\n",
    "http = urllib3.PoolManager(\n",
    "    cert_reqs='CERT_REQUIRED',\n",
    "    ca_certs=certifi.where()\n",
    ")"
   ]
  },
  {
   "cell_type": "code",
   "execution_count": null,
   "metadata": {},
   "outputs": [],
   "source": [
    "import requests\n",
    "from bs4 import BeautifulSoup\n",
    "\n",
    "for team in teams:\n",
    "    url = url_format.format(team)\n",
    "    response = requests.get(url, verify=False)\n",
    "    #response = requests.get(url, verify=certifi.where())\n",
    "    soup = BeautifulSoup(response.content, 'html.parser')\n",
    "\n",
    "    roster =  soup.find(\"table\", {\"id\": \"roster\"})\n",
    "\n",
    "    for row in roster.find_all(\"tr\"):\n",
    "        player_cells = row.find_all('td', {'data-stat': 'player'})\n",
    "\n",
    "        for cell in player_cells:\n",
    "            link_tag = cell.find('a')\n",
    "            if link_tag:\n",
    "                player_link = link_tag['href']\n",
    "\n",
    "                print(f\"Player link: {player_link}\")\n",
    "\n",
    "                full_player_link_format = \"https://www.basketball-reference.com{}\"\n",
    "                full_player_link = full_player_link_format.format(player_link)\n",
    "                player_response = requests.get(full_player_link, verify=False)\n",
    "                #player_response = requests.get(full_player_link, verify=certifi.where())\n",
    "                player_soup = BeautifulSoup(player_response.content, 'html.parser')\n",
    "\n",
    "                game_logs_header = player_soup.find('p', {'class': 'listhead'}, string=\"Game Logs\")\n",
    "                    \n",
    "                if game_logs_header:\n",
    "                    game_log_links = game_logs_header.find_next_sibling('ul')\n",
    "\n",
    "                    if game_log_links:\n",
    "                        for link in game_log_links.find_all('a', href=True):\n",
    "                            nested_link = link['href']\n",
    "                            print(f\"Nested link: https://www.basketball-reference.com{nested_link}\")\n",
    "\n",
    "\n",
    "    '''\n",
    "    # Replace this with a request to a relational database (MongoDB)\n",
    "    with open(\"data/{}.html\".format(team), 'w+') as file:\n",
    "        file.write(data.text)\n",
    "    '''"
   ]
  }
 ],
 "metadata": {
  "kernelspec": {
   "display_name": "Python 3",
   "language": "python",
   "name": "python3"
  },
  "language_info": {
   "codemirror_mode": {
    "name": "ipython",
    "version": 3
   },
   "file_extension": ".py",
   "mimetype": "text/x-python",
   "name": "python",
   "nbconvert_exporter": "python",
   "pygments_lexer": "ipython3",
   "version": "3.12.5"
  }
 },
 "nbformat": 4,
 "nbformat_minor": 2
}
