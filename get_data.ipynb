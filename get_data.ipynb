{
 "cells": [
  {
   "cell_type": "code",
   "execution_count": null,
   "metadata": {},
   "outputs": [],
   "source": [
    "%pip install requests"
   ]
  },
  {
   "cell_type": "code",
   "execution_count": 14,
   "metadata": {},
   "outputs": [],
   "source": [
    "teams = [\"TOR\"] # Will include all teams later on"
   ]
  },
  {
   "cell_type": "code",
   "execution_count": 15,
   "metadata": {},
   "outputs": [],
   "source": [
    "url_format = \"https://www.basketball-reference.com/teams/{}/2025.html\""
   ]
  },
  {
   "cell_type": "code",
   "execution_count": null,
   "metadata": {},
   "outputs": [],
   "source": [
    "%pip install beautifulsoup4"
   ]
  },
  {
   "cell_type": "code",
   "execution_count": null,
   "metadata": {},
   "outputs": [],
   "source": [
    "!python -m pip install certifi"
   ]
  },
  {
   "cell_type": "code",
   "execution_count": 9,
   "metadata": {},
   "outputs": [],
   "source": [
    "import certifi\n",
    "import urllib3\n",
    "http = urllib3.PoolManager(\n",
    "    cert_reqs='CERT_REQUIRED',\n",
    "    ca_certs=certifi.where()\n",
    ")"
   ]
  },
  {
   "cell_type": "code",
   "execution_count": null,
   "metadata": {},
   "outputs": [],
   "source": [
    "import requests\n",
    "from bs4 import BeautifulSoup\n",
    "import time\n",
    "import os\n",
    "\n",
    "# If you get an error, try printing response. If it returns <Reponse [429]>, you are sending too many requests, you have to wait a while to run again\n",
    "# Check the reponse header to see how long you have to wait before running the req again (we can implement this automatically (optional)), usually 1 hour\n",
    "# This function will take a while to prevent overflowing the limit (max 30 req /min)\n",
    "\n",
    "# Since this takes so long, one team might need to be updated on seperate days / and maybe every week worst case\n",
    "\n",
    "# We use certification to adhere with best practices (this doesn't work on corporate wifi)'\n",
    "# Right now, it sets verification to false, uncomment and replace this line with the one below to use certification\n",
    "\n",
    "# Initial runtime for the Raptors took 4 min 27.2 seconds \n",
    "\n",
    "for team in teams:\n",
    "    url = url_format.format(team)\n",
    "    time.sleep(2)\n",
    "    response = requests.get(url, verify=False)\n",
    "    #response = requests.get(url, verify=certifi.where())\n",
    "    print(response)\n",
    "    print(response.headers)\n",
    "    soup = BeautifulSoup(response.content, 'html.parser')\n",
    "\n",
    "    roster =  soup.find(\"table\", {\"id\": \"roster\"})\n",
    "\n",
    "    for row in roster.find_all(\"tr\"):\n",
    "        player_cells = row.find_all('td', {'data-stat': 'player'})\n",
    "\n",
    "        for cell in player_cells:\n",
    "            link_tag = cell.find('a')\n",
    "            if link_tag:\n",
    "                player_link = link_tag['href']\n",
    "\n",
    "                full_player_link_format = \"https://www.basketball-reference.com{}\"\n",
    "                full_player_link = full_player_link_format.format(player_link)\n",
    "                time.sleep(2)\n",
    "                player_response = requests.get(full_player_link, verify=False)\n",
    "                #player_response = requests.get(full_player_link, verify=certifi.where())\n",
    "                player_soup = BeautifulSoup(player_response.content, 'html.parser')\n",
    "\n",
    "                game_logs_header = player_soup.find('p', {'class': 'listhead'}, string=\"Game Logs\")\n",
    "                    \n",
    "                if game_logs_header:\n",
    "                    game_log_links = game_logs_header.find_next_sibling('ul')\n",
    "\n",
    "                    if game_log_links:\n",
    "                        for link in game_log_links.find_all('a', href=True):\n",
    "                            nested_link = link['href']\n",
    "                            print(f\"Nested link: https://www.basketball-reference.com{nested_link}\")\n",
    "\n",
    "                            player_name = player_link.split('/')[-1].replace('.html', '')\n",
    "                            game_log_link_format = \"https://www.basketball-reference.com{}\"\n",
    "                            game_log_link = game_log_link_format.format(nested_link)\n",
    "                            time.sleep(2)\n",
    "                            game_log_response = requests.get(game_log_link, verify=False)\n",
    "\n",
    "                            year = game_log_link.split('/')[-1]\n",
    "\n",
    "                            if year == \"\":\n",
    "                                year = \"playoffs\"\n",
    "\n",
    "                            # Create the directory if it doesn't exist\n",
    "                            directory = f\"data/{team}/{player_name}\"\n",
    "                            if not os.path.exists(directory):\n",
    "                                os.makedirs(directory)\n",
    "\n",
    "                            # Replace this with a request to a relational database (MongoDB)\n",
    "                            with open(f\"{directory}/{year}.html\", 'a', encoding='utf-8') as file:\n",
    "                                file.write(game_log_response.text)"
   ]
  },
  {
   "cell_type": "code",
   "execution_count": null,
   "metadata": {},
   "outputs": [],
   "source": [
    "%pip install pandas"
   ]
  },
  {
   "cell_type": "code",
   "execution_count": null,
   "metadata": {},
   "outputs": [],
   "source": [
    "%pip install bs4\n",
    "%pip install html5lib\n",
    "%pip install lxml"
   ]
  },
  {
   "cell_type": "code",
   "execution_count": 18,
   "metadata": {},
   "outputs": [],
   "source": [
    "import pandas as pd"
   ]
  },
  {
   "cell_type": "code",
   "execution_count": null,
   "metadata": {},
   "outputs": [],
   "source": [
    "import os\n",
    "import re\n",
    "from io import StringIO\n",
    "import pandas as pd\n",
    "from bs4 import BeautifulSoup\n",
    "\n",
    "# Does not work for playoff files yet (different table format)\n",
    "\n",
    "dfs = []\n",
    "\n",
    "outer_folder = 'data'\n",
    "\n",
    "pattern = r\"^(.*?)(?=\\s\\d{4}-\\d{2}|\\splayoffs)\"\n",
    "\n",
    "for dirpath, dirnames, filenames in os.walk(outer_folder):\n",
    "    for filename in filenames:\n",
    "\n",
    "        file_path = os.path.join(dirpath, filename)\n",
    "        \n",
    "        with open(file_path, 'r', encoding='utf-8') as file:\n",
    "            page = file.read()\n",
    "\n",
    "        soup = BeautifulSoup(page, 'html.parser')\n",
    "\n",
    "        # Remove middle headers\n",
    "        middle_headers = soup.find_all('tr', class_=\"thead\")\n",
    "\n",
    "        for header in middle_headers:\n",
    "            header.decompose()\n",
    "\n",
    "        game_log_table = soup.find('table', {'id': 'pgl_basic'})\n",
    "\n",
    "        print(\"File path: \", file_path)\n",
    "\n",
    "        if game_log_table is None:\n",
    "            print(f\"No table with ID 'pgl_basic' found in file {file_path}\")\n",
    "            continue  # Skip this file and move to the next\n",
    "\n",
    "        title_tag = soup.find('title')\n",
    "\n",
    "        if title_tag:\n",
    "            title_text = title_tag.get_text()\n",
    "            match = re.search(pattern, title_text)\n",
    "\n",
    "            if match:\n",
    "                full_name = match.group(1).strip() \n",
    "\n",
    "        game_log = pd.read_html(StringIO(str(game_log_table)))[0]\n",
    "       \n",
    "        if full_name:\n",
    "            game_log[\"Name\"] = full_name\n",
    "\n",
    "            # Reorder the columns to put \"Name\" first\n",
    "            columns = ['Name'] + [col for col in game_log.columns if col != 'Name']\n",
    "            game_log = game_log[columns]\n",
    "\n",
    "        dfs.append(game_log)"
   ]
  },
  {
   "cell_type": "code",
   "execution_count": 42,
   "metadata": {},
   "outputs": [],
   "source": [
    "game_logs = pd.concat(dfs)\n",
    "game_logs.drop(['Unnamed: 5', \"Rk\", \"G\"], axis=1, inplace=True)  # Modifies df directly\n",
    "game_logs.rename(columns={'Unnamed: 7': 'Win/Loss'}, inplace=True)\n"
   ]
  },
  {
   "cell_type": "code",
   "execution_count": 43,
   "metadata": {},
   "outputs": [],
   "source": [
    "game_logs.to_csv(\"game_logs.csv\")"
   ]
  },
  {
   "cell_type": "code",
   "execution_count": null,
   "metadata": {},
   "outputs": [],
   "source": [
    "game_logs"
   ]
  }
 ],
 "metadata": {
  "kernelspec": {
   "display_name": "Python 3",
   "language": "python",
   "name": "python3"
  },
  "language_info": {
   "codemirror_mode": {
    "name": "ipython",
    "version": 3
   },
   "file_extension": ".py",
   "mimetype": "text/x-python",
   "name": "python",
   "nbconvert_exporter": "python",
   "pygments_lexer": "ipython3",
   "version": "3.12.5"
  }
 },
 "nbformat": 4,
 "nbformat_minor": 2
}
