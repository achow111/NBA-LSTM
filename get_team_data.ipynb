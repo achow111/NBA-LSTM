{
 "cells": [
  {
   "cell_type": "code",
   "execution_count": 1,
   "metadata": {},
   "outputs": [],
   "source": [
    "#url_format = \"https://www.nba.com/stats/teams/advanced?Season={}\"\n",
    "url_format = \"https://www.basketball-reference.com/leagues/NBA_{}.html\""
   ]
  },
  {
   "cell_type": "code",
   "execution_count": 2,
   "metadata": {},
   "outputs": [],
   "source": [
    "# Lebron was drafted in 03\n",
    "'''\n",
    "years = [\n",
    "    \"2003-04\", \"2004-05\", \"2005-06\", \"2006-07\", \"2007-08\", \"2008-09\", \n",
    "    \"2009-10\", \"2010-11\", \"2011-12\", \"2012-13\", \"2013-14\", \"2014-15\", \n",
    "    \"2015-16\", \"2016-17\", \"2017-18\", \"2018-19\", \"2019-20\", \"2020-21\", \n",
    "    \"2021-22\", \"2022-23\", \"2023-24\", \"2024-25\"\n",
    "]\n",
    "'''\n",
    "years = [\n",
    "    \"2004\", \"2005\", \"2006\", \"2007\", \"2008\", \"2009\", \n",
    "    \"2010\", \"2011\", \"2012\", \"2013\", \"2014\", \"2015\", \n",
    "    \"2016\", \"2017\", \"2018\", \"2019\", \"2020\", \"2021\", \n",
    "    \"2022\", \"2023\", \"2024\", \"2025\"\n",
    "]\n"
   ]
  },
  {
   "cell_type": "code",
   "execution_count": 3,
   "metadata": {},
   "outputs": [],
   "source": [
    "teams = [\"TOR\"]"
   ]
  },
  {
   "cell_type": "code",
   "execution_count": null,
   "metadata": {},
   "outputs": [],
   "source": [
    "%pip install selenium\n",
    "# Need to download webdriver"
   ]
  },
  {
   "cell_type": "code",
   "execution_count": null,
   "metadata": {},
   "outputs": [],
   "source": [
    "# Alternative workflow using NBA.com (Selenium may not be the best for webscraping moving forward)\n",
    "'''\n",
    "import os\n",
    "\n",
    "for team in teams:\n",
    "    for year in years:\n",
    "        url = url_format.format(year)\n",
    "\n",
    "        directory = f\"data/{team}/{year}\"\n",
    "        if not os.path.exists(directory):\n",
    "            os.makedirs(directory)\n",
    "\n",
    "        from selenium.webdriver.chrome.service import Service\n",
    "\n",
    "        service = Service(executable_path='/Users/aaronchow/Desktop/chromedriver-mac-arm64/chromedriver')\n",
    "        options = webdriver.ChromeOptions()\n",
    "        driver = webdriver.Chrome(service=service, options=options)\n",
    "\n",
    "        driver.get(url)\n",
    "        html = driver.page_source\n",
    "\n",
    "        with open(f\"{folder_name}/team_ratings.html\", \"w+\") as f:\n",
    "            f.write(html)\n",
    "'''"
   ]
  },
  {
   "cell_type": "code",
   "execution_count": 4,
   "metadata": {},
   "outputs": [],
   "source": [
    "import certifi\n",
    "import urllib3\n",
    "http = urllib3.PoolManager(\n",
    "    cert_reqs='CERT_REQUIRED',\n",
    "    ca_certs=certifi.where()\n",
    ")"
   ]
  },
  {
   "cell_type": "code",
   "execution_count": null,
   "metadata": {},
   "outputs": [],
   "source": [
    "# May want to use this instead: https://www.basketball-reference.com/leagues/NBA_2023.html\n",
    "# 1 min 13.5 seconds on initial run\n",
    "import os\n",
    "import time\n",
    "import requests\n",
    "from io import StringIO\n",
    "import pandas as pd\n",
    "from bs4 import BeautifulSoup\n",
    "\n",
    "dfs = []\n",
    "\n",
    "for year in years:\n",
    "    url = url_format.format(year)\n",
    "\n",
    "    directory = f\"data/advancedStats/{year}\"\n",
    "    if not os.path.exists(directory):\n",
    "        os.makedirs(directory)\n",
    "\n",
    "    response = requests.get(url, verify=False)\n",
    "     #response = requests.get(url, verify=certifi.where())\n",
    "    soup = BeautifulSoup(response.content, 'html.parser')\n",
    "\n",
    "    advanced_stats_table = soup.find(\"table\", {\"id\": \"advanced-team\"})\n",
    "\n",
    "    useless_headers = soup.find_all('tr', class_=\"over_header\")\n",
    "\n",
    "    for header in useless_headers:\n",
    "        header.decompose()\n",
    "\n",
    "    advanced_stats = pd.read_html(StringIO(str(advanced_stats_table)))[0]\n",
    "\n",
    "    dfs.append(advanced_stats)\n",
    "\n",
    "    time.sleep(2)\n",
    "        "
   ]
  },
  {
   "cell_type": "code",
   "execution_count": 23,
   "metadata": {},
   "outputs": [],
   "source": [
    "advanced_stats = pd.concat(dfs)\n",
    "advanced_stats.drop(['Arena', \"Attend.\", \"Attend./G\", \"Unnamed: 17\", \"Unnamed: 22\", \"Unnamed: 27\"], axis=1, inplace=True)\n",
    "advanced_stats = advanced_stats[advanced_stats['Team'] != 'League Average']\n",
    "advanced_stats['Team'] = advanced_stats['Team'].str.replace('*', '', regex=False)\n"
   ]
  },
  {
   "cell_type": "code",
   "execution_count": 24,
   "metadata": {},
   "outputs": [],
   "source": [
    "advanced_stats.to_csv(\"advanced_stats.csv\")"
   ]
  },
  {
   "cell_type": "code",
   "execution_count": null,
   "metadata": {},
   "outputs": [],
   "source": [
    "advanced_stats"
   ]
  },
  {
   "cell_type": "code",
   "execution_count": null,
   "metadata": {},
   "outputs": [],
   "source": [
    "'''\n",
    "Concerns\n",
    "    - At some point, the Charlotte Bobcats became the Hornets, and then moved to New Orleans\n",
    "        - We need to account for these name differences\n",
    "'''"
   ]
  }
 ],
 "metadata": {
  "kernelspec": {
   "display_name": "Python 3",
   "language": "python",
   "name": "python3"
  },
  "language_info": {
   "codemirror_mode": {
    "name": "ipython",
    "version": 3
   },
   "file_extension": ".py",
   "mimetype": "text/x-python",
   "name": "python",
   "nbconvert_exporter": "python",
   "pygments_lexer": "ipython3",
   "version": "3.12.5"
  }
 },
 "nbformat": 4,
 "nbformat_minor": 2
}
